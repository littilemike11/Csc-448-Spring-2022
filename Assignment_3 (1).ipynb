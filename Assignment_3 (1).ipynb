{
  "nbformat": 4,
  "nbformat_minor": 0,
  "metadata": {
    "colab": {
      "name": "Assignment 3.ipynb",
      "provenance": [],
      "collapsed_sections": []
    },
    "kernelspec": {
      "name": "python3",
      "display_name": "Python 3"
    },
    "language_info": {
      "name": "python"
    }
  },
  "cells": [
    {
      "cell_type": "markdown",
      "source": [
        "[![Open In Colab](https://colab.research.google.com/assets/colab-badge.svg)](https://colab.research.google.com/github/littilemike11/Csc-448-Spring-2022/blob/main/Assignment_3.ipynb)"
      ],
      "metadata": {
        "id": "eihtQen7MJCj"
      }
    },
    {
      "cell_type": "code",
      "execution_count": null,
      "metadata": {
        "id": "WHj_WQaZ9aXz"
      },
      "outputs": [],
      "source": [
        "import pandas as pd"
      ]
    },
    {
      "cell_type": "code",
      "source": [
        "slime = pd.read_csv(\"https://raw.githubusercontent.com/profmcnich/example_notebook/main/science_data_large.csv\")"
      ],
      "metadata": {
        "id": "t-ZO9ZtG9c3N"
      },
      "execution_count": null,
      "outputs": []
    },
    {
      "cell_type": "code",
      "source": [
        "slime"
      ],
      "metadata": {
        "id": "a-0XnPRIAIjL",
        "colab": {
          "base_uri": "https://localhost:8080/",
          "height": 424
        },
        "outputId": "6ca9000e-0fd7-4f2c-878f-5fea60be29d8"
      },
      "execution_count": null,
      "outputs": [
        {
          "output_type": "execute_result",
          "data": {
            "text/plain": [
              "     Temperature °C  Mols KCL     Size nm^3\n",
              "0               469       647  6.244743e+05\n",
              "1               403       694  5.779610e+05\n",
              "2               302       975  6.196847e+05\n",
              "3               779       916  1.460449e+06\n",
              "4               901        18  4.325726e+04\n",
              "..              ...       ...           ...\n",
              "995             894       847  1.545661e+06\n",
              "996             327       982  6.737041e+05\n",
              "997             791       213  3.477543e+05\n",
              "998             769       553  8.684794e+05\n",
              "999             919       452  8.476413e+05\n",
              "\n",
              "[1000 rows x 3 columns]"
            ],
            "text/html": [
              "\n",
              "  <div id=\"df-850ef096-2028-46cd-918b-64462945fff3\">\n",
              "    <div class=\"colab-df-container\">\n",
              "      <div>\n",
              "<style scoped>\n",
              "    .dataframe tbody tr th:only-of-type {\n",
              "        vertical-align: middle;\n",
              "    }\n",
              "\n",
              "    .dataframe tbody tr th {\n",
              "        vertical-align: top;\n",
              "    }\n",
              "\n",
              "    .dataframe thead th {\n",
              "        text-align: right;\n",
              "    }\n",
              "</style>\n",
              "<table border=\"1\" class=\"dataframe\">\n",
              "  <thead>\n",
              "    <tr style=\"text-align: right;\">\n",
              "      <th></th>\n",
              "      <th>Temperature °C</th>\n",
              "      <th>Mols KCL</th>\n",
              "      <th>Size nm^3</th>\n",
              "    </tr>\n",
              "  </thead>\n",
              "  <tbody>\n",
              "    <tr>\n",
              "      <th>0</th>\n",
              "      <td>469</td>\n",
              "      <td>647</td>\n",
              "      <td>6.244743e+05</td>\n",
              "    </tr>\n",
              "    <tr>\n",
              "      <th>1</th>\n",
              "      <td>403</td>\n",
              "      <td>694</td>\n",
              "      <td>5.779610e+05</td>\n",
              "    </tr>\n",
              "    <tr>\n",
              "      <th>2</th>\n",
              "      <td>302</td>\n",
              "      <td>975</td>\n",
              "      <td>6.196847e+05</td>\n",
              "    </tr>\n",
              "    <tr>\n",
              "      <th>3</th>\n",
              "      <td>779</td>\n",
              "      <td>916</td>\n",
              "      <td>1.460449e+06</td>\n",
              "    </tr>\n",
              "    <tr>\n",
              "      <th>4</th>\n",
              "      <td>901</td>\n",
              "      <td>18</td>\n",
              "      <td>4.325726e+04</td>\n",
              "    </tr>\n",
              "    <tr>\n",
              "      <th>...</th>\n",
              "      <td>...</td>\n",
              "      <td>...</td>\n",
              "      <td>...</td>\n",
              "    </tr>\n",
              "    <tr>\n",
              "      <th>995</th>\n",
              "      <td>894</td>\n",
              "      <td>847</td>\n",
              "      <td>1.545661e+06</td>\n",
              "    </tr>\n",
              "    <tr>\n",
              "      <th>996</th>\n",
              "      <td>327</td>\n",
              "      <td>982</td>\n",
              "      <td>6.737041e+05</td>\n",
              "    </tr>\n",
              "    <tr>\n",
              "      <th>997</th>\n",
              "      <td>791</td>\n",
              "      <td>213</td>\n",
              "      <td>3.477543e+05</td>\n",
              "    </tr>\n",
              "    <tr>\n",
              "      <th>998</th>\n",
              "      <td>769</td>\n",
              "      <td>553</td>\n",
              "      <td>8.684794e+05</td>\n",
              "    </tr>\n",
              "    <tr>\n",
              "      <th>999</th>\n",
              "      <td>919</td>\n",
              "      <td>452</td>\n",
              "      <td>8.476413e+05</td>\n",
              "    </tr>\n",
              "  </tbody>\n",
              "</table>\n",
              "<p>1000 rows × 3 columns</p>\n",
              "</div>\n",
              "      <button class=\"colab-df-convert\" onclick=\"convertToInteractive('df-850ef096-2028-46cd-918b-64462945fff3')\"\n",
              "              title=\"Convert this dataframe to an interactive table.\"\n",
              "              style=\"display:none;\">\n",
              "        \n",
              "  <svg xmlns=\"http://www.w3.org/2000/svg\" height=\"24px\"viewBox=\"0 0 24 24\"\n",
              "       width=\"24px\">\n",
              "    <path d=\"M0 0h24v24H0V0z\" fill=\"none\"/>\n",
              "    <path d=\"M18.56 5.44l.94 2.06.94-2.06 2.06-.94-2.06-.94-.94-2.06-.94 2.06-2.06.94zm-11 1L8.5 8.5l.94-2.06 2.06-.94-2.06-.94L8.5 2.5l-.94 2.06-2.06.94zm10 10l.94 2.06.94-2.06 2.06-.94-2.06-.94-.94-2.06-.94 2.06-2.06.94z\"/><path d=\"M17.41 7.96l-1.37-1.37c-.4-.4-.92-.59-1.43-.59-.52 0-1.04.2-1.43.59L10.3 9.45l-7.72 7.72c-.78.78-.78 2.05 0 2.83L4 21.41c.39.39.9.59 1.41.59.51 0 1.02-.2 1.41-.59l7.78-7.78 2.81-2.81c.8-.78.8-2.07 0-2.86zM5.41 20L4 18.59l7.72-7.72 1.47 1.35L5.41 20z\"/>\n",
              "  </svg>\n",
              "      </button>\n",
              "      \n",
              "  <style>\n",
              "    .colab-df-container {\n",
              "      display:flex;\n",
              "      flex-wrap:wrap;\n",
              "      gap: 12px;\n",
              "    }\n",
              "\n",
              "    .colab-df-convert {\n",
              "      background-color: #E8F0FE;\n",
              "      border: none;\n",
              "      border-radius: 50%;\n",
              "      cursor: pointer;\n",
              "      display: none;\n",
              "      fill: #1967D2;\n",
              "      height: 32px;\n",
              "      padding: 0 0 0 0;\n",
              "      width: 32px;\n",
              "    }\n",
              "\n",
              "    .colab-df-convert:hover {\n",
              "      background-color: #E2EBFA;\n",
              "      box-shadow: 0px 1px 2px rgba(60, 64, 67, 0.3), 0px 1px 3px 1px rgba(60, 64, 67, 0.15);\n",
              "      fill: #174EA6;\n",
              "    }\n",
              "\n",
              "    [theme=dark] .colab-df-convert {\n",
              "      background-color: #3B4455;\n",
              "      fill: #D2E3FC;\n",
              "    }\n",
              "\n",
              "    [theme=dark] .colab-df-convert:hover {\n",
              "      background-color: #434B5C;\n",
              "      box-shadow: 0px 1px 3px 1px rgba(0, 0, 0, 0.15);\n",
              "      filter: drop-shadow(0px 1px 2px rgba(0, 0, 0, 0.3));\n",
              "      fill: #FFFFFF;\n",
              "    }\n",
              "  </style>\n",
              "\n",
              "      <script>\n",
              "        const buttonEl =\n",
              "          document.querySelector('#df-850ef096-2028-46cd-918b-64462945fff3 button.colab-df-convert');\n",
              "        buttonEl.style.display =\n",
              "          google.colab.kernel.accessAllowed ? 'block' : 'none';\n",
              "\n",
              "        async function convertToInteractive(key) {\n",
              "          const element = document.querySelector('#df-850ef096-2028-46cd-918b-64462945fff3');\n",
              "          const dataTable =\n",
              "            await google.colab.kernel.invokeFunction('convertToInteractive',\n",
              "                                                     [key], {});\n",
              "          if (!dataTable) return;\n",
              "\n",
              "          const docLinkHtml = 'Like what you see? Visit the ' +\n",
              "            '<a target=\"_blank\" href=https://colab.research.google.com/notebooks/data_table.ipynb>data table notebook</a>'\n",
              "            + ' to learn more about interactive tables.';\n",
              "          element.innerHTML = '';\n",
              "          dataTable['output_type'] = 'display_data';\n",
              "          await google.colab.output.renderOutput(dataTable, element);\n",
              "          const docLink = document.createElement('div');\n",
              "          docLink.innerHTML = docLinkHtml;\n",
              "          element.appendChild(docLink);\n",
              "        }\n",
              "      </script>\n",
              "    </div>\n",
              "  </div>\n",
              "  "
            ]
          },
          "metadata": {},
          "execution_count": 170
        }
      ]
    },
    {
      "cell_type": "code",
      "source": [
        "slime.head(15)"
      ],
      "metadata": {
        "id": "p5kae65UAhZb",
        "colab": {
          "base_uri": "https://localhost:8080/",
          "height": 520
        },
        "outputId": "01560c91-a567-47f4-b847-88445fbfef6d"
      },
      "execution_count": null,
      "outputs": [
        {
          "output_type": "execute_result",
          "data": {
            "text/plain": [
              "    Temperature °C  Mols KCL     Size nm^3\n",
              "0              469       647  6.244743e+05\n",
              "1              403       694  5.779610e+05\n",
              "2              302       975  6.196847e+05\n",
              "3              779       916  1.460449e+06\n",
              "4              901        18  4.325726e+04\n",
              "5              545       637  7.124634e+05\n",
              "6              660       519  7.006960e+05\n",
              "7              143       869  2.718260e+05\n",
              "8               89       461  8.919803e+04\n",
              "9              294       776  4.770210e+05\n",
              "10             991       117  2.441771e+05\n",
              "11             307       781  5.006455e+05\n",
              "12             206        70  3.145200e+04\n",
              "13             437       599  5.390215e+05\n",
              "14             566        75  9.185271e+04"
            ],
            "text/html": [
              "\n",
              "  <div id=\"df-02f71d00-16c8-4454-b85e-2b8816834fd8\">\n",
              "    <div class=\"colab-df-container\">\n",
              "      <div>\n",
              "<style scoped>\n",
              "    .dataframe tbody tr th:only-of-type {\n",
              "        vertical-align: middle;\n",
              "    }\n",
              "\n",
              "    .dataframe tbody tr th {\n",
              "        vertical-align: top;\n",
              "    }\n",
              "\n",
              "    .dataframe thead th {\n",
              "        text-align: right;\n",
              "    }\n",
              "</style>\n",
              "<table border=\"1\" class=\"dataframe\">\n",
              "  <thead>\n",
              "    <tr style=\"text-align: right;\">\n",
              "      <th></th>\n",
              "      <th>Temperature °C</th>\n",
              "      <th>Mols KCL</th>\n",
              "      <th>Size nm^3</th>\n",
              "    </tr>\n",
              "  </thead>\n",
              "  <tbody>\n",
              "    <tr>\n",
              "      <th>0</th>\n",
              "      <td>469</td>\n",
              "      <td>647</td>\n",
              "      <td>6.244743e+05</td>\n",
              "    </tr>\n",
              "    <tr>\n",
              "      <th>1</th>\n",
              "      <td>403</td>\n",
              "      <td>694</td>\n",
              "      <td>5.779610e+05</td>\n",
              "    </tr>\n",
              "    <tr>\n",
              "      <th>2</th>\n",
              "      <td>302</td>\n",
              "      <td>975</td>\n",
              "      <td>6.196847e+05</td>\n",
              "    </tr>\n",
              "    <tr>\n",
              "      <th>3</th>\n",
              "      <td>779</td>\n",
              "      <td>916</td>\n",
              "      <td>1.460449e+06</td>\n",
              "    </tr>\n",
              "    <tr>\n",
              "      <th>4</th>\n",
              "      <td>901</td>\n",
              "      <td>18</td>\n",
              "      <td>4.325726e+04</td>\n",
              "    </tr>\n",
              "    <tr>\n",
              "      <th>5</th>\n",
              "      <td>545</td>\n",
              "      <td>637</td>\n",
              "      <td>7.124634e+05</td>\n",
              "    </tr>\n",
              "    <tr>\n",
              "      <th>6</th>\n",
              "      <td>660</td>\n",
              "      <td>519</td>\n",
              "      <td>7.006960e+05</td>\n",
              "    </tr>\n",
              "    <tr>\n",
              "      <th>7</th>\n",
              "      <td>143</td>\n",
              "      <td>869</td>\n",
              "      <td>2.718260e+05</td>\n",
              "    </tr>\n",
              "    <tr>\n",
              "      <th>8</th>\n",
              "      <td>89</td>\n",
              "      <td>461</td>\n",
              "      <td>8.919803e+04</td>\n",
              "    </tr>\n",
              "    <tr>\n",
              "      <th>9</th>\n",
              "      <td>294</td>\n",
              "      <td>776</td>\n",
              "      <td>4.770210e+05</td>\n",
              "    </tr>\n",
              "    <tr>\n",
              "      <th>10</th>\n",
              "      <td>991</td>\n",
              "      <td>117</td>\n",
              "      <td>2.441771e+05</td>\n",
              "    </tr>\n",
              "    <tr>\n",
              "      <th>11</th>\n",
              "      <td>307</td>\n",
              "      <td>781</td>\n",
              "      <td>5.006455e+05</td>\n",
              "    </tr>\n",
              "    <tr>\n",
              "      <th>12</th>\n",
              "      <td>206</td>\n",
              "      <td>70</td>\n",
              "      <td>3.145200e+04</td>\n",
              "    </tr>\n",
              "    <tr>\n",
              "      <th>13</th>\n",
              "      <td>437</td>\n",
              "      <td>599</td>\n",
              "      <td>5.390215e+05</td>\n",
              "    </tr>\n",
              "    <tr>\n",
              "      <th>14</th>\n",
              "      <td>566</td>\n",
              "      <td>75</td>\n",
              "      <td>9.185271e+04</td>\n",
              "    </tr>\n",
              "  </tbody>\n",
              "</table>\n",
              "</div>\n",
              "      <button class=\"colab-df-convert\" onclick=\"convertToInteractive('df-02f71d00-16c8-4454-b85e-2b8816834fd8')\"\n",
              "              title=\"Convert this dataframe to an interactive table.\"\n",
              "              style=\"display:none;\">\n",
              "        \n",
              "  <svg xmlns=\"http://www.w3.org/2000/svg\" height=\"24px\"viewBox=\"0 0 24 24\"\n",
              "       width=\"24px\">\n",
              "    <path d=\"M0 0h24v24H0V0z\" fill=\"none\"/>\n",
              "    <path d=\"M18.56 5.44l.94 2.06.94-2.06 2.06-.94-2.06-.94-.94-2.06-.94 2.06-2.06.94zm-11 1L8.5 8.5l.94-2.06 2.06-.94-2.06-.94L8.5 2.5l-.94 2.06-2.06.94zm10 10l.94 2.06.94-2.06 2.06-.94-2.06-.94-.94-2.06-.94 2.06-2.06.94z\"/><path d=\"M17.41 7.96l-1.37-1.37c-.4-.4-.92-.59-1.43-.59-.52 0-1.04.2-1.43.59L10.3 9.45l-7.72 7.72c-.78.78-.78 2.05 0 2.83L4 21.41c.39.39.9.59 1.41.59.51 0 1.02-.2 1.41-.59l7.78-7.78 2.81-2.81c.8-.78.8-2.07 0-2.86zM5.41 20L4 18.59l7.72-7.72 1.47 1.35L5.41 20z\"/>\n",
              "  </svg>\n",
              "      </button>\n",
              "      \n",
              "  <style>\n",
              "    .colab-df-container {\n",
              "      display:flex;\n",
              "      flex-wrap:wrap;\n",
              "      gap: 12px;\n",
              "    }\n",
              "\n",
              "    .colab-df-convert {\n",
              "      background-color: #E8F0FE;\n",
              "      border: none;\n",
              "      border-radius: 50%;\n",
              "      cursor: pointer;\n",
              "      display: none;\n",
              "      fill: #1967D2;\n",
              "      height: 32px;\n",
              "      padding: 0 0 0 0;\n",
              "      width: 32px;\n",
              "    }\n",
              "\n",
              "    .colab-df-convert:hover {\n",
              "      background-color: #E2EBFA;\n",
              "      box-shadow: 0px 1px 2px rgba(60, 64, 67, 0.3), 0px 1px 3px 1px rgba(60, 64, 67, 0.15);\n",
              "      fill: #174EA6;\n",
              "    }\n",
              "\n",
              "    [theme=dark] .colab-df-convert {\n",
              "      background-color: #3B4455;\n",
              "      fill: #D2E3FC;\n",
              "    }\n",
              "\n",
              "    [theme=dark] .colab-df-convert:hover {\n",
              "      background-color: #434B5C;\n",
              "      box-shadow: 0px 1px 3px 1px rgba(0, 0, 0, 0.15);\n",
              "      filter: drop-shadow(0px 1px 2px rgba(0, 0, 0, 0.3));\n",
              "      fill: #FFFFFF;\n",
              "    }\n",
              "  </style>\n",
              "\n",
              "      <script>\n",
              "        const buttonEl =\n",
              "          document.querySelector('#df-02f71d00-16c8-4454-b85e-2b8816834fd8 button.colab-df-convert');\n",
              "        buttonEl.style.display =\n",
              "          google.colab.kernel.accessAllowed ? 'block' : 'none';\n",
              "\n",
              "        async function convertToInteractive(key) {\n",
              "          const element = document.querySelector('#df-02f71d00-16c8-4454-b85e-2b8816834fd8');\n",
              "          const dataTable =\n",
              "            await google.colab.kernel.invokeFunction('convertToInteractive',\n",
              "                                                     [key], {});\n",
              "          if (!dataTable) return;\n",
              "\n",
              "          const docLinkHtml = 'Like what you see? Visit the ' +\n",
              "            '<a target=\"_blank\" href=https://colab.research.google.com/notebooks/data_table.ipynb>data table notebook</a>'\n",
              "            + ' to learn more about interactive tables.';\n",
              "          element.innerHTML = '';\n",
              "          dataTable['output_type'] = 'display_data';\n",
              "          await google.colab.output.renderOutput(dataTable, element);\n",
              "          const docLink = document.createElement('div');\n",
              "          docLink.innerHTML = docLinkHtml;\n",
              "          element.appendChild(docLink);\n",
              "        }\n",
              "      </script>\n",
              "    </div>\n",
              "  </div>\n",
              "  "
            ]
          },
          "metadata": {},
          "execution_count": 171
        }
      ]
    },
    {
      "cell_type": "code",
      "source": [
        "slime.dtypes"
      ],
      "metadata": {
        "colab": {
          "base_uri": "https://localhost:8080/"
        },
        "id": "O6tGH7UHAmIa",
        "outputId": "c0cdac43-4b08-4975-961a-b83c6fc637e9"
      },
      "execution_count": null,
      "outputs": [
        {
          "output_type": "execute_result",
          "data": {
            "text/plain": [
              "Temperature °C      int64\n",
              "Mols KCL            int64\n",
              "Size nm^3         float64\n",
              "dtype: object"
            ]
          },
          "metadata": {},
          "execution_count": 172
        }
      ]
    },
    {
      "cell_type": "code",
      "source": [
        "slime.info()"
      ],
      "metadata": {
        "colab": {
          "base_uri": "https://localhost:8080/"
        },
        "id": "P0-Ib1KuAvqa",
        "outputId": "a7637eed-964f-40ea-c031-a0433f15f17c"
      },
      "execution_count": null,
      "outputs": [
        {
          "output_type": "stream",
          "name": "stdout",
          "text": [
            "<class 'pandas.core.frame.DataFrame'>\n",
            "RangeIndex: 1000 entries, 0 to 999\n",
            "Data columns (total 3 columns):\n",
            " #   Column          Non-Null Count  Dtype  \n",
            "---  ------          --------------  -----  \n",
            " 0   Temperature °C  1000 non-null   int64  \n",
            " 1   Mols KCL        1000 non-null   int64  \n",
            " 2   Size nm^3       1000 non-null   float64\n",
            "dtypes: float64(1), int64(2)\n",
            "memory usage: 23.6 KB\n"
          ]
        }
      ]
    },
    {
      "cell_type": "code",
      "source": [
        "# split data into features( temp and mols kcl) and label (size) \n",
        "label = slime[\"Size nm^3\"]\n",
        "features = slime[['Temperature °C','Mols KCL' ]]\n",
        "\n"
      ],
      "metadata": {
        "id": "JwDMP40YyZiX"
      },
      "execution_count": null,
      "outputs": []
    },
    {
      "cell_type": "code",
      "source": [
        "# split data into test(10%) and train (90%)\n",
        "import numpy as np\n",
        "from sklearn.model_selection import train_test_split\n",
        "X_train, X_test, Y_train, Y_test = train_test_split(features, label, test_size = 0.10, random_state = 0)\n",
        "X_train\n",
        "Y_train\n",
        "X_test\n",
        "Y_test"
      ],
      "metadata": {
        "id": "7ViNYp7pFTQZ",
        "colab": {
          "base_uri": "https://localhost:8080/"
        },
        "outputId": "329dc3fd-0012-4811-c5fb-6e75b66678f7"
      },
      "execution_count": null,
      "outputs": [
        {
          "output_type": "execute_result",
          "data": {
            "text/plain": [
              "993    1.705684e+05\n",
              "859    2.878027e+05\n",
              "298    1.577891e+06\n",
              "553    4.550711e+04\n",
              "672    3.558626e+04\n",
              "           ...     \n",
              "485    1.785532e+06\n",
              "568    4.891863e+05\n",
              "108    2.827965e+05\n",
              "367    3.118813e+05\n",
              "644    6.808943e+05\n",
              "Name: Size nm^3, Length: 100, dtype: float64"
            ]
          },
          "metadata": {},
          "execution_count": 175
        }
      ]
    },
    {
      "cell_type": "code",
      "source": [
        "train_test_split(Y, shuffle = False)"
      ],
      "metadata": {
        "id": "gnE8rxNzH7KN"
      },
      "execution_count": null,
      "outputs": []
    },
    {
      "cell_type": "code",
      "source": [
        "from sklearn import linear_model\n",
        "reg= linear_model.LinearRegression()\n",
        "reg.fit(X_train,Y_train)\n",
        "reg.score(X_test,Y_test)\n",
        "\n"
      ],
      "metadata": {
        "id": "4GsejVpcKS6u",
        "colab": {
          "base_uri": "https://localhost:8080/"
        },
        "outputId": "e819f7cd-15f6-453b-e275-2d58e91cde67"
      },
      "execution_count": null,
      "outputs": [
        {
          "output_type": "execute_result",
          "data": {
            "text/plain": [
              "0.8761646752736477"
            ]
          },
          "metadata": {},
          "execution_count": 177
        }
      ]
    },
    {
      "cell_type": "markdown",
      "source": [
        "The score is .87616 meaning that the regression line that represents this model has an accuracy of about 85%. In other words, any given predicted value on average would be about +/- 13% of the actual value. This is a fairly accurate model, as the score is quite high. The higher the score, the closer the actual score will be to the predict score.\n",
        "\n"
      ],
      "metadata": {
        "id": "4Gs5TVz2QzYz"
      }
    },
    {
      "cell_type": "code",
      "source": [
        "reg.predict(X_test)"
      ],
      "metadata": {
        "id": "WNpsAbAlvZhv",
        "colab": {
          "base_uri": "https://localhost:8080/"
        },
        "outputId": "fdb5b775-5e4a-4185-a391-1ff3c7bf9ad0"
      },
      "execution_count": null,
      "outputs": [
        {
          "output_type": "execute_result",
          "data": {
            "text/plain": [
              "array([ 134891.57109752,  566848.1770532 , 1241137.60975794,\n",
              "        -24367.1696409 ,  -70657.3340248 ,  384956.44708746,\n",
              "        467392.47066236,  960873.69862144,    8407.39619923,\n",
              "         51611.35989487,  838231.36519831, 1232720.46674085,\n",
              "        901563.3931183 , -118835.20674597,  188176.20244545,\n",
              "       1158467.7057509 ,  665263.26735435,  560560.92590561,\n",
              "        163940.53886357,  469055.93661764, 1419180.64745835,\n",
              "        -84401.29716064,  555956.53417346, 1401489.68980634,\n",
              "        450621.8221688 , 1161403.05700777,   45784.96014151,\n",
              "        408948.47482721,  421868.97874553,  645969.69402768,\n",
              "        467893.44392697,  208517.41869172, 1438187.73449241,\n",
              "        708330.20055877, 1400047.62029314,  711132.70221441,\n",
              "        942380.06884206, 1116186.8384737 , 1257396.19462681,\n",
              "        189369.12027644,   71374.08771584,  870102.22808014,\n",
              "         94087.37936384,  407174.28131093,  271473.01984826,\n",
              "        388791.32041263,  237873.60116061,  790013.37060675,\n",
              "        112125.67358907,  512139.47602221,  905252.99153208,\n",
              "       -163237.6627926 , 1056768.59266956,  757865.71816238,\n",
              "        422587.22624213,  838109.54727724, 1168808.55676556,\n",
              "        420476.72783278,  562454.20876288, 1196155.27165602,\n",
              "       1141958.63424972, -205320.64929795, -193313.545068  ,\n",
              "        882065.02954971, -233968.28100031, 1111316.74753909,\n",
              "        125465.51340122,  862352.1203292 ,  495379.97656865,\n",
              "       -260706.08232516,  463075.95885281,  636857.7605043 ,\n",
              "        958770.10968217,  514388.39855279,  139911.11783352,\n",
              "        874190.37529761,  634698.83712449, 1003517.17372194,\n",
              "        536824.90063825,  402129.82527471, 1095143.98093098,\n",
              "        752354.83621194,  438989.75107231,  175035.63703514,\n",
              "        339707.01615308,  -94234.2067607 ,  749168.99832276,\n",
              "        802198.96214839,  767320.80736899,   79090.92438656,\n",
              "         72706.82329805,  325614.2641341 ,  424739.29883178,\n",
              "         38884.61453832,  264437.03738384, 1344491.9443744 ,\n",
              "        747405.89516655,  321578.72277709,  473270.08264618,\n",
              "        772305.80675459])"
            ]
          },
          "metadata": {},
          "execution_count": 178
        }
      ]
    },
    {
      "cell_type": "code",
      "source": [
        "reg.coef_"
      ],
      "metadata": {
        "colab": {
          "base_uri": "https://localhost:8080/"
        },
        "id": "2LtUP6hGQlaH",
        "outputId": "8b9b8ca0-a823-472b-d478-b68f6b2e11cf"
      },
      "execution_count": null,
      "outputs": [
        {
          "output_type": "execute_result",
          "data": {
            "text/plain": [
              "array([ 863.58108791, 1006.12741921])"
            ]
          },
          "metadata": {},
          "execution_count": 179
        }
      ]
    },
    {
      "cell_type": "code",
      "source": [
        "reg.intercept_"
      ],
      "metadata": {
        "colab": {
          "base_uri": "https://localhost:8080/"
        },
        "id": "pJyFm6avSI5O",
        "outputId": "af76f9f5-effe-485e-b201-420b6be96ac1"
      },
      "execution_count": null,
      "outputs": [
        {
          "output_type": "execute_result",
          "data": {
            "text/plain": [
              "-400305.9133335322"
            ]
          },
          "metadata": {},
          "execution_count": 180
        }
      ]
    },
    {
      "cell_type": "markdown",
      "source": [
        "Equation:\n",
        "h(x,y) = 1026.657y + 879.91x - 416783.918"
      ],
      "metadata": {
        "id": "vaXeVzXoSMVo"
      }
    },
    {
      "cell_type": "code",
      "source": [
        "#have issues with cross val\n",
        "from sklearn.model_selection import  cross_val_score\n",
        "from sklearn import svm\n",
        "\n",
        "clf = svm.SVC(kernel='linear', C=1, random_state=50)\n",
        "scores = cross_val_score(clf, features, label, cv=5)\n",
        "scores"
      ],
      "metadata": {
        "colab": {
          "base_uri": "https://localhost:8080/"
        },
        "id": "_yuwOwznSK3-",
        "outputId": "1757fa49-a8ca-47f8-d38b-fabd60bcddeb"
      },
      "execution_count": null,
      "outputs": [
        {
          "output_type": "stream",
          "name": "stderr",
          "text": [
            "/usr/local/lib/python3.7/dist-packages/sklearn/model_selection/_validation.py:372: FitFailedWarning: \n",
            "5 fits failed out of a total of 5.\n",
            "The score on these train-test partitions for these parameters will be set to nan.\n",
            "If these failures are not expected, you can try to debug them by setting error_score='raise'.\n",
            "\n",
            "Below are more details about the failures:\n",
            "--------------------------------------------------------------------------------\n",
            "5 fits failed with the following error:\n",
            "Traceback (most recent call last):\n",
            "  File \"/usr/local/lib/python3.7/dist-packages/sklearn/model_selection/_validation.py\", line 680, in _fit_and_score\n",
            "    estimator.fit(X_train, y_train, **fit_params)\n",
            "  File \"/usr/local/lib/python3.7/dist-packages/sklearn/svm/_base.py\", line 199, in fit\n",
            "    y = self._validate_targets(y)\n",
            "  File \"/usr/local/lib/python3.7/dist-packages/sklearn/svm/_base.py\", line 716, in _validate_targets\n",
            "    check_classification_targets(y)\n",
            "  File \"/usr/local/lib/python3.7/dist-packages/sklearn/utils/multiclass.py\", line 197, in check_classification_targets\n",
            "    raise ValueError(\"Unknown label type: %r\" % y_type)\n",
            "ValueError: Unknown label type: 'continuous'\n",
            "\n",
            "  warnings.warn(some_fits_failed_message, FitFailedWarning)\n"
          ]
        },
        {
          "output_type": "execute_result",
          "data": {
            "text/plain": [
              "array([nan, nan, nan, nan, nan])"
            ]
          },
          "metadata": {},
          "execution_count": 181
        }
      ]
    },
    {
      "cell_type": "code",
      "source": [
        "features.shape,label.shape"
      ],
      "metadata": {
        "colab": {
          "base_uri": "https://localhost:8080/"
        },
        "id": "VwVVWN1MSUuu",
        "outputId": "b4a6e70b-3c8d-44a3-d588-f2e9e29a4fa8"
      },
      "execution_count": null,
      "outputs": [
        {
          "output_type": "execute_result",
          "data": {
            "text/plain": [
              "((1000, 2), (1000,))"
            ]
          },
          "metadata": {},
          "execution_count": 182
        }
      ]
    },
    {
      "cell_type": "code",
      "source": [
        "from sklearn.preprocessing import PolynomialFeatures\n",
        "poly = PolynomialFeatures(2)\n",
        "poly.fit_transform(X_train)"
      ],
      "metadata": {
        "colab": {
          "base_uri": "https://localhost:8080/"
        },
        "id": "nlTLWXc1oW5K",
        "outputId": "35b56172-3a93-4f84-8ec3-788dcf299b31"
      },
      "execution_count": null,
      "outputs": [
        {
          "output_type": "execute_result",
          "data": {
            "text/plain": [
              "array([[1.00000e+00, 1.80000e+01, 6.10000e+01, 3.24000e+02, 1.09800e+03,\n",
              "        3.72100e+03],\n",
              "       [1.00000e+00, 8.26000e+02, 3.86000e+02, 6.82276e+05, 3.18836e+05,\n",
              "        1.48996e+05],\n",
              "       [1.00000e+00, 5.18000e+02, 7.72000e+02, 2.68324e+05, 3.99896e+05,\n",
              "        5.95984e+05],\n",
              "       ...,\n",
              "       [1.00000e+00, 1.53000e+02, 8.01000e+02, 2.34090e+04, 1.22553e+05,\n",
              "        6.41601e+05],\n",
              "       [1.00000e+00, 7.26000e+02, 7.44000e+02, 5.27076e+05, 5.40144e+05,\n",
              "        5.53536e+05],\n",
              "       [1.00000e+00, 4.93000e+02, 9.79000e+02, 2.43049e+05, 4.82647e+05,\n",
              "        9.58441e+05]])"
            ]
          },
          "metadata": {},
          "execution_count": 190
        }
      ]
    },
    {
      "cell_type": "code",
      "source": [
        "poly= PolynomialFeatures(interaction_only=True)\n",
        "poly.fit_transform(X_train)"
      ],
      "metadata": {
        "colab": {
          "base_uri": "https://localhost:8080/"
        },
        "id": "-104s2Hs0Al0",
        "outputId": "d8d0ab59-a7dc-40dc-9a97-37b7bfde584b"
      },
      "execution_count": null,
      "outputs": [
        {
          "output_type": "execute_result",
          "data": {
            "text/plain": [
              "array([[1.00000e+00, 1.80000e+01, 6.10000e+01, 1.09800e+03],\n",
              "       [1.00000e+00, 8.26000e+02, 3.86000e+02, 3.18836e+05],\n",
              "       [1.00000e+00, 5.18000e+02, 7.72000e+02, 3.99896e+05],\n",
              "       ...,\n",
              "       [1.00000e+00, 1.53000e+02, 8.01000e+02, 1.22553e+05],\n",
              "       [1.00000e+00, 7.26000e+02, 7.44000e+02, 5.40144e+05],\n",
              "       [1.00000e+00, 4.93000e+02, 9.79000e+02, 4.82647e+05]])"
            ]
          },
          "metadata": {},
          "execution_count": 184
        }
      ]
    },
    {
      "cell_type": "code",
      "source": [
        "poly_train = poly.fit_transform(X_train)\n",
        "poly_test = poly.fit_transform(X_test)"
      ],
      "metadata": {
        "id": "nHZLlG680OaD"
      },
      "execution_count": null,
      "outputs": []
    },
    {
      "cell_type": "code",
      "source": [
        "reg.fit(poly_train, Y_train)\n",
        "reg.score(poly_test, Y_test)"
      ],
      "metadata": {
        "colab": {
          "base_uri": "https://localhost:8080/"
        },
        "id": "LbNseNhH0dp7",
        "outputId": "32d94928-33c7-4a0a-ea19-86f0fe1a4d57"
      },
      "execution_count": null,
      "outputs": [
        {
          "output_type": "execute_result",
          "data": {
            "text/plain": [
              "0.9999844849899112"
            ]
          },
          "metadata": {},
          "execution_count": 186
        }
      ]
    },
    {
      "cell_type": "markdown",
      "source": [
        "the polynomial score is .99998. This is highly accurate and suggests a polynomial relationship between the features and label. The score suggets that on average any predicted mass is +/- 1% of the actual mass."
      ],
      "metadata": {
        "id": "x81Gs8CM5K7y"
      }
    },
    {
      "cell_type": "code",
      "source": [
        "reg.coef_"
      ],
      "metadata": {
        "colab": {
          "base_uri": "https://localhost:8080/"
        },
        "id": "aEuvXTec2RVT",
        "outputId": "6515a5fc-51e8-46ea-f12d-dcc1266ac102"
      },
      "execution_count": null,
      "outputs": [
        {
          "output_type": "execute_result",
          "data": {
            "text/plain": [
              "array([ 0.        , 10.81824739, 26.84454708,  2.00164481])"
            ]
          },
          "metadata": {},
          "execution_count": 187
        }
      ]
    },
    {
      "cell_type": "code",
      "source": [
        "reg.intercept_"
      ],
      "metadata": {
        "colab": {
          "base_uri": "https://localhost:8080/"
        },
        "id": "gxT1QMy13nPh",
        "outputId": "acb828bd-5065-4170-d748-aee956143de3"
      },
      "execution_count": null,
      "outputs": [
        {
          "output_type": "execute_result",
          "data": {
            "text/plain": [
              "-3748.6371021420346"
            ]
          },
          "metadata": {},
          "execution_count": 188
        }
      ]
    },
    {
      "cell_type": "markdown",
      "source": [
        "Equation: h(x,y)= 0x + 10.818x^2 + 26.844y + 2.0016y^2 - 3748.6"
      ],
      "metadata": {
        "id": "WYbq1w0g-NyS"
      }
    },
    {
      "cell_type": "code",
      "source": [
        "reg.predict(poly_test)"
      ],
      "metadata": {
        "colab": {
          "base_uri": "https://localhost:8080/"
        },
        "id": "HiPeXEPd_lJD",
        "outputId": "4d0928ee-9b9f-4852-f87f-7ca431dd0db7"
      },
      "execution_count": null,
      "outputs": [
        {
          "output_type": "execute_result",
          "data": {
            "text/plain": [
              "array([ 171695.19986458,  286448.78662537, 1577700.57927154,\n",
              "         47353.50137477,   37038.46017273,  319978.88678533,\n",
              "        322742.75736385, 1075679.67362661,   54238.26150176,\n",
              "         98793.53349122,  810316.41358459, 1563098.66853368,\n",
              "        993996.00175317,   47409.73117431,  150873.62250799,\n",
              "       1418720.29160849,  512957.08917505,  383622.19133419,\n",
              "         89357.65415322,  402834.70255467, 1921436.96509693,\n",
              "         56202.23971639,  227105.91090013, 1884276.93363533,\n",
              "        413095.8372107 , 1431493.94981139,   64133.56853313,\n",
              "        336688.83379537,  360677.76427022,  579065.25614379,\n",
              "        433769.01212112,  113497.54090352, 1967473.33097835,\n",
              "        725720.11316563, 1880155.9548512 ,  665546.13894882,\n",
              "       1043763.44252199, 1346125.49545279, 1600903.87354366,\n",
              "         10485.10679753,   71280.77377168,  668906.44668846,\n",
              "         77540.79565159,  367599.41846858,  265967.4205479 ,\n",
              "        236929.89352372,  139323.90794548,  717130.5290997 ,\n",
              "         79701.15766303,  112091.44176579, 1003478.67418445,\n",
              "         19771.1410502 , 1188736.11649421,  779956.62563161,\n",
              "        132824.13976661,  865937.51762315, 1383718.23665992,\n",
              "        336140.39218634,  416332.12980703, 1487205.96205202,\n",
              "       1381672.10997665,   10252.11656608,   24339.71801843,\n",
              "        849758.2436081 ,    9335.50420002, 1300823.22443542,\n",
              "        108789.58736246,  901349.17251914,  301010.26279463,\n",
              "          6394.92004725,  179416.52854719,  408435.29187922,\n",
              "       1086290.71172507,  335233.68545064,   80238.24215367,\n",
              "        935463.43225828,  633520.64250764, 1157371.73341244,\n",
              "        360642.14648084,  161373.56973239, 1239052.73081609,\n",
              "        758419.20571362,  375197.13871609,  197673.08592885,\n",
              "        228936.84797452,   32038.66450007,  761188.80925786,\n",
              "        791721.14025592,  775983.42409067,   28934.50395771,\n",
              "         91347.76503398,   78463.71818468,  389582.42654351,\n",
              "         62314.32932426,  250890.41113243, 1783523.13030976,\n",
              "        485855.66172333,  285231.24745074,  313138.32576769,\n",
              "        679955.02377231])"
            ]
          },
          "metadata": {},
          "execution_count": 191
        }
      ]
    },
    {
      "cell_type": "code",
      "source": [
        "Y_test"
      ],
      "metadata": {
        "colab": {
          "base_uri": "https://localhost:8080/"
        },
        "id": "0rrAx6hRIaOf",
        "outputId": "0898dd10-c9cf-4ae4-c205-db636bb77d6f"
      },
      "execution_count": null,
      "outputs": [
        {
          "output_type": "execute_result",
          "data": {
            "text/plain": [
              "993    1.705684e+05\n",
              "859    2.878027e+05\n",
              "298    1.577891e+06\n",
              "553    4.550711e+04\n",
              "672    3.558626e+04\n",
              "           ...     \n",
              "485    1.785532e+06\n",
              "568    4.891863e+05\n",
              "108    2.827965e+05\n",
              "367    3.118813e+05\n",
              "644    6.808943e+05\n",
              "Name: Size nm^3, Length: 100, dtype: float64"
            ]
          },
          "metadata": {},
          "execution_count": 193
        }
      ]
    },
    {
      "cell_type": "code",
      "source": [
        ""
      ],
      "metadata": {
        "id": "jzKBGE8wIbXv"
      },
      "execution_count": null,
      "outputs": []
    }
  ]
}